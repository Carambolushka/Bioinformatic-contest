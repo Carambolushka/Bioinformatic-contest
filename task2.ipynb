{
  "nbformat": 4,
  "nbformat_minor": 0,
  "metadata": {
    "colab": {
      "name": "Untitled1.ipynb",
      "provenance": [],
      "mount_file_id": "1Kyt0w1ebUl6hXaeouZ_lKGndx27hhhF7",
      "authorship_tag": "ABX9TyPOj6yivpGcz0vGTBPNIvj9",
      "include_colab_link": true
    },
    "kernelspec": {
      "name": "python3",
      "display_name": "Python 3"
    },
    "language_info": {
      "name": "python"
    }
  },
  "cells": [
    {
      "cell_type": "markdown",
      "metadata": {
        "id": "view-in-github",
        "colab_type": "text"
      },
      "source": [
        "<a href=\"https://colab.research.google.com/github/Carambolushka/Bioinformatic-contest/blob/main/task2.ipynb\" target=\"_parent\"><img src=\"https://colab.research.google.com/assets/colab-badge.svg\" alt=\"Open In Colab\"/></a>"
      ]
    },
    {
      "cell_type": "code",
      "metadata": {
        "id": "8Sg9q6e5fCdL"
      },
      "source": [
        "import numpy as np\n",
        "import itertools"
      ],
      "execution_count": null,
      "outputs": []
    },
    {
      "cell_type": "code",
      "metadata": {
        "colab": {
          "base_uri": "https://localhost:8080/"
        },
        "id": "bqUymlOPjMhV",
        "outputId": "b3b261d5-dbca-45bb-e81c-4d0e40d0aa63"
      },
      "source": [
        "!wget 'https://stepik.org/media/attachments/lesson/541850/3.zip'"
      ],
      "execution_count": null,
      "outputs": [
        {
          "output_type": "stream",
          "text": [
            "--2021-06-18 19:15:48--  https://stepik.org/media/attachments/lesson/541850/3.zip\n",
            "Resolving stepik.org (stepik.org)... 13.69.75.239\n",
            "Connecting to stepik.org (stepik.org)|13.69.75.239|:443... connected.\n",
            "HTTP request sent, awaiting response... 200 OK\n",
            "Length: 617752 (603K) [application/zip]\n",
            "Saving to: ‘3.zip’\n",
            "\n",
            "3.zip               100%[===================>] 603.27K   654KB/s    in 0.9s    \n",
            "\n",
            "2021-06-18 19:15:50 (654 KB/s) - ‘3.zip’ saved [617752/617752]\n",
            "\n"
          ],
          "name": "stdout"
        }
      ]
    },
    {
      "cell_type": "code",
      "metadata": {
        "colab": {
          "base_uri": "https://localhost:8080/"
        },
        "id": "-q6u1_iCjMnM",
        "outputId": "5c3b5b32-4038-496f-fdc6-c387e5d7e8e5"
      },
      "source": [
        "!unzip /content/3.zip"
      ],
      "execution_count": null,
      "outputs": [
        {
          "output_type": "stream",
          "text": [
            "Archive:  /content/3.zip\n",
            "  inflating: 3.txt                   \n"
          ],
          "name": "stdout"
        }
      ]
    },
    {
      "cell_type": "code",
      "metadata": {
        "id": "NTi-8nuxV8yL"
      },
      "source": [
        "test_file = open('/content/3.txt', 'r')"
      ],
      "execution_count": null,
      "outputs": []
    },
    {
      "cell_type": "code",
      "metadata": {
        "id": "CPCdijWGYE6t"
      },
      "source": [
        "test = []\n",
        "for line in test_file.readlines():\n",
        "    test += [line.split()]"
      ],
      "execution_count": null,
      "outputs": []
    },
    {
      "cell_type": "code",
      "metadata": {
        "id": "v84hpXNsVNgX"
      },
      "source": [
        "test_file.close()"
      ],
      "execution_count": null,
      "outputs": []
    },
    {
      "cell_type": "code",
      "metadata": {
        "colab": {
          "base_uri": "https://localhost:8080/"
        },
        "id": "AsTJV_vrEtdf",
        "outputId": "fcfd83d7-d886-4807-88c9-06dd21707946"
      },
      "source": [
        "number_of_tests = int(test[0][0])\n",
        "print(number_of_tests)"
      ],
      "execution_count": null,
      "outputs": [
        {
          "output_type": "stream",
          "text": [
            "2\n"
          ],
          "name": "stdout"
        }
      ]
    },
    {
      "cell_type": "code",
      "metadata": {
        "id": "dme15Wb5lSIi"
      },
      "source": [
        "m_mass"
      ],
      "execution_count": null,
      "outputs": []
    },
    {
      "cell_type": "code",
      "metadata": {
        "colab": {
          "base_uri": "https://localhost:8080/"
        },
        "id": "_mct-l3aBLZ_",
        "outputId": "7ed4aea2-b136-43a2-bbc2-d66fd96a71d5"
      },
      "source": [
        "result = open('result.txt', 'w')\n",
        "for i in range(number_of_tests):\n",
        "    print(f'работа с {i} тестом')\n",
        "    # enter the 1 example \n",
        "    numbers = test[1::4][i] \n",
        "\n",
        "    m_mass = test[2::4][i]\n",
        "    k_mass = test[3::4][i]\n",
        "    s_signal = test[4::4][i]\n",
        "    print(f'длина m {len(m_mass)}')\n",
        "    print(f'длина k {len(k_mass)}')\n",
        "    print(f'длина s {len(s_signal)}')\n",
        "    \n",
        "\n",
        "    #create matrix with all combinations\n",
        "    matr = np.array(list(itertools.product([float(i) for i in (m_mass)], [float(j) for j in k_mass])))\n",
        "    \n",
        "    #create table with indexis of combined\n",
        "    index_m = [[float(j) for j in m_mass].index(k)+1 for k in matr.T[0]] #[[float(j) for j in test[2]].index(k)+1 for k in matr.T[0]]\n",
        "    index_k = [[float(j) for j in k_mass].index(k)+1 for k in matr.T[1]]\n",
        "               \n",
        "    #create sum_matrix and vocabulary with sum_matrix and indexis\n",
        "    matr_sum = matr.sum(axis=1)\n",
        "    voc = {}\n",
        "    for i in range(len(matr_sum)):\n",
        "        voc[matr_sum[i]] = [index_m[i], index_k[i]]\n",
        "\n",
        "    # create positive vocabulary\n",
        "    voc_positive = {k: v for k, v in voc.items() if k>=0}\n",
        "    \n",
        "    #now i should count delta for each key in vocabulary\n",
        "    \n",
        "    matr_sum_positive = matr_sum[matr_sum>=0]\n",
        "\n",
        "    float_s_signal = [float(j) for j in s_signal]\n",
        "    counter = 0\n",
        "    for i in (float_s_signal):\n",
        "        if counter%1000 ==0:\n",
        "            print(counter, '!!!!!!!!!!!!!!!!!!!!!!!!')\n",
        "        counter += 1\n",
        "        #deltas = []\n",
        "\n",
        "        deltas = abs(matr_sum_positive - i)\n",
        "        \n",
        "        best_delta = np.min(deltas)\n",
        "        \n",
        "\n",
        "        for_print = list(voc_positive.get(matr_sum_positive[tuple(deltas).index(best_delta)]))\n",
        "        \n",
        "        print(*for_print, file=result)\n",
        "result.close()\n"
      ],
      "execution_count": null,
      "outputs": [
        {
          "output_type": "stream",
          "text": [
            "84000 !!!!!!!!!!!!!!!!!!!!!!!!\n",
            "85000 !!!!!!!!!!!!!!!!!!!!!!!!\n",
            "86000 !!!!!!!!!!!!!!!!!!!!!!!!\n",
            "87000 !!!!!!!!!!!!!!!!!!!!!!!!\n",
            "88000 !!!!!!!!!!!!!!!!!!!!!!!!\n",
            "89000 !!!!!!!!!!!!!!!!!!!!!!!!\n",
            "90000 !!!!!!!!!!!!!!!!!!!!!!!!\n",
            "91000 !!!!!!!!!!!!!!!!!!!!!!!!\n",
            "92000 !!!!!!!!!!!!!!!!!!!!!!!!\n",
            "93000 !!!!!!!!!!!!!!!!!!!!!!!!\n",
            "94000 !!!!!!!!!!!!!!!!!!!!!!!!\n",
            "95000 !!!!!!!!!!!!!!!!!!!!!!!!\n",
            "96000 !!!!!!!!!!!!!!!!!!!!!!!!\n",
            "97000 !!!!!!!!!!!!!!!!!!!!!!!!\n",
            "98000 !!!!!!!!!!!!!!!!!!!!!!!!\n",
            "99000 !!!!!!!!!!!!!!!!!!!!!!!!\n"
          ],
          "name": "stdout"
        }
      ]
    },
    {
      "cell_type": "code",
      "metadata": {
        "id": "3746RMa0IIqk"
      },
      "source": [
        "!cp '/content/result.txt' '/content/drive/MyDrive/Programming_All/result.txt'"
      ],
      "execution_count": null,
      "outputs": []
    },
    {
      "cell_type": "code",
      "metadata": {
        "colab": {
          "base_uri": "https://localhost:8080/"
        },
        "id": "LHjhCGYKe0e6",
        "outputId": "43b45d83-8768-40fb-ad20-e391eeb1fcad"
      },
      "source": [
        "voc_positive"
      ],
      "execution_count": null,
      "outputs": [
        {
          "output_type": "execute_result",
          "data": {
            "text/plain": [
              "{0.500002: [2, 1], 0.5000020000000001: [1, 2], 1.500002: [1, 1]}"
            ]
          },
          "metadata": {
            "tags": []
          },
          "execution_count": 123
        }
      ]
    },
    {
      "cell_type": "code",
      "metadata": {
        "colab": {
          "base_uri": "https://localhost:8080/"
        },
        "id": "aADw29Mxe3LD",
        "outputId": "3881afbe-e54f-4f9e-ef41-58905065e333"
      },
      "source": [
        "deltas"
      ],
      "execution_count": null,
      "outputs": [
        {
          "output_type": "execute_result",
          "data": {
            "text/plain": [
              "[1.0000010000000001,\n",
              " 1.0000000000287557e-06,\n",
              " 9.999999999177334e-07,\n",
              " 1.0,\n",
              " 1.1102230246251565e-16,\n",
              " 0.0]"
            ]
          },
          "metadata": {
            "tags": []
          },
          "execution_count": 124
        }
      ]
    },
    {
      "cell_type": "code",
      "metadata": {
        "colab": {
          "base_uri": "https://localhost:8080/"
        },
        "id": "kX_FxhC3e8nq",
        "outputId": "8de4c55f-16ba-4c96-c951-5e647dced010"
      },
      "source": [
        "matr_sum_positive"
      ],
      "execution_count": null,
      "outputs": [
        {
          "output_type": "execute_result",
          "data": {
            "text/plain": [
              "array([1.500002, 0.500002, 0.500002])"
            ]
          },
          "metadata": {
            "tags": []
          },
          "execution_count": 126
        }
      ]
    },
    {
      "cell_type": "code",
      "metadata": {
        "id": "UCy6RhsEe_3d"
      },
      "source": [
        ""
      ],
      "execution_count": null,
      "outputs": []
    },
    {
      "cell_type": "code",
      "metadata": {
        "id": "tj0CaC-Ue_6R"
      },
      "source": [
        ""
      ],
      "execution_count": null,
      "outputs": []
    },
    {
      "cell_type": "code",
      "metadata": {
        "id": "lbxhzG_Se_9e"
      },
      "source": [
        ""
      ],
      "execution_count": null,
      "outputs": []
    },
    {
      "cell_type": "code",
      "metadata": {
        "id": "5bO74MYGfAAQ"
      },
      "source": [
        ""
      ],
      "execution_count": null,
      "outputs": []
    },
    {
      "cell_type": "code",
      "metadata": {
        "id": "0NQdDUrRfACi"
      },
      "source": [
        ""
      ],
      "execution_count": null,
      "outputs": []
    },
    {
      "cell_type": "code",
      "metadata": {
        "colab": {
          "base_uri": "https://localhost:8080/"
        },
        "id": "ht7JjIttQUWQ",
        "outputId": "4eebcdb1-bbe9-43e7-8ae0-a9a7670be907"
      },
      "source": [
        "a=[1,2,3, 4,1,0.5]\n",
        "\n",
        "c=[]\n",
        "[abs(i-1) for i in a]"
      ],
      "execution_count": null,
      "outputs": [
        {
          "output_type": "execute_result",
          "data": {
            "text/plain": [
              "[0, 1, 2, 3, 0, 0.5]"
            ]
          },
          "metadata": {
            "tags": []
          },
          "execution_count": 117
        }
      ]
    },
    {
      "cell_type": "code",
      "metadata": {
        "colab": {
          "base_uri": "https://localhost:8080/"
        },
        "id": "Diyx730UXTr3",
        "outputId": "084cd53b-f204-4eb5-a011-4fdca463e0c5"
      },
      "source": [
        "b=[np.array([1.000001e+00, 1.000000e-06, 1.000000e-06])]\n",
        "np.min(b)"
      ],
      "execution_count": null,
      "outputs": [
        {
          "output_type": "execute_result",
          "data": {
            "text/plain": [
              "1e-06"
            ]
          },
          "metadata": {
            "tags": []
          },
          "execution_count": 101
        }
      ]
    },
    {
      "cell_type": "code",
      "metadata": {
        "id": "SQmxy7r9YafA",
        "colab": {
          "base_uri": "https://localhost:8080/"
        },
        "outputId": "1860d370-9aa2-4769-9ab9-131774982c0e"
      },
      "source": [
        "number_of_tests = int(test[0][0])\n",
        "print(number_of_tests)\n",
        "number_of_m = int(test[1][0])\n",
        "print(number_of_m)\n",
        "number_of_k = int(test[1][1])\n",
        "print(number_of_k)\n",
        "number_of_s = int(test[1][2])\n",
        "print(number_of_s)"
      ],
      "execution_count": null,
      "outputs": [
        {
          "output_type": "stream",
          "text": [
            "3\n",
            "2\n",
            "2\n",
            "5\n"
          ],
          "name": "stdout"
        }
      ]
    },
    {
      "cell_type": "code",
      "metadata": {
        "id": "hUPK3aHYgaHE"
      },
      "source": [
        "matr = np.array(list(itertools.product([float(i) for i in (test[2])], [float(j) for j in test[3]])))"
      ],
      "execution_count": null,
      "outputs": []
    },
    {
      "cell_type": "code",
      "metadata": {
        "colab": {
          "base_uri": "https://localhost:8080/"
        },
        "id": "ZEC87GGhjUvO",
        "outputId": "770dd338-ccf7-4373-d944-ca793da4a1d6"
      },
      "source": [
        "print(matr)"
      ],
      "execution_count": null,
      "outputs": [
        {
          "output_type": "stream",
          "text": [
            "[[ 1.000002e+00  5.000000e-01]\n",
            " [ 1.000002e+00 -5.000000e-01]\n",
            " [ 2.000000e-06  5.000000e-01]\n",
            " [ 2.000000e-06 -5.000000e-01]]\n"
          ],
          "name": "stdout"
        }
      ]
    },
    {
      "cell_type": "code",
      "metadata": {
        "id": "LrxNMb_Hn1SH"
      },
      "source": [
        "index_m = [[float(j) for j in test[2]].index(k)+1 for k in matr.T[0]]"
      ],
      "execution_count": null,
      "outputs": []
    },
    {
      "cell_type": "code",
      "metadata": {
        "colab": {
          "base_uri": "https://localhost:8080/"
        },
        "id": "KCeI_vmfOJ8U",
        "outputId": "2cfe87d4-ec42-4c0e-f413-ff7f842d42f3"
      },
      "source": [
        "index_m"
      ],
      "execution_count": null,
      "outputs": [
        {
          "output_type": "execute_result",
          "data": {
            "text/plain": [
              "[1, 1, 2, 2]"
            ]
          },
          "metadata": {
            "tags": []
          },
          "execution_count": 29
        }
      ]
    },
    {
      "cell_type": "code",
      "metadata": {
        "id": "4QCb2bKvq8KJ"
      },
      "source": [
        "index_k = [[float(j) for j in test[3]].index(k)+1 for k in matr.T[1]]"
      ],
      "execution_count": null,
      "outputs": []
    },
    {
      "cell_type": "code",
      "metadata": {
        "id": "1yoY5auamndE"
      },
      "source": [
        "matr_sum = matr.sum(axis=1)"
      ],
      "execution_count": null,
      "outputs": []
    },
    {
      "cell_type": "code",
      "metadata": {
        "colab": {
          "base_uri": "https://localhost:8080/"
        },
        "id": "bwH6tfwYuN41",
        "outputId": "b7ee0f57-e240-404f-9fc0-32448bbf1773"
      },
      "source": [
        "matr_sum"
      ],
      "execution_count": null,
      "outputs": [
        {
          "output_type": "execute_result",
          "data": {
            "text/plain": [
              "array([ 1.500002,  0.500002,  0.500002, -0.499998])"
            ]
          },
          "metadata": {
            "tags": []
          },
          "execution_count": 37
        }
      ]
    },
    {
      "cell_type": "code",
      "metadata": {
        "colab": {
          "base_uri": "https://localhost:8080/"
        },
        "id": "ZPMDSCOJmo36",
        "outputId": "b77f396b-d6fd-45a0-e8b5-26a4348ec665"
      },
      "source": [
        "voc = {}\n",
        "for i in range(len(matr_sum)):\n",
        "    voc[matr_sum[i]] = [index_m[i], index_k[i]]\n",
        "print(voc)"
      ],
      "execution_count": null,
      "outputs": [
        {
          "output_type": "stream",
          "text": [
            "{1.500002: [1, 1], 0.5000020000000001: [1, 2], 0.500002: [2, 1], -0.499998: [2, 2]}\n"
          ],
          "name": "stdout"
        }
      ]
    },
    {
      "cell_type": "code",
      "metadata": {
        "id": "Gur7PYmwTwmH"
      },
      "source": [
        "#{k: v for k, v in my_dict.items() if k != 1}\n",
        "voc_positive = {k: v for k, v in voc.items() if k>=0}"
      ],
      "execution_count": null,
      "outputs": []
    },
    {
      "cell_type": "code",
      "metadata": {
        "colab": {
          "base_uri": "https://localhost:8080/"
        },
        "id": "xlghyGXMUrQ8",
        "outputId": "719175e0-f4ba-410e-c374-6fdb7a2de314"
      },
      "source": [
        "voc_positive"
      ],
      "execution_count": null,
      "outputs": [
        {
          "output_type": "execute_result",
          "data": {
            "text/plain": [
              "{0.500002: [2, 1], 0.5000020000000001: [1, 2], 1.500002: [1, 1]}"
            ]
          },
          "metadata": {
            "tags": []
          },
          "execution_count": 75
        }
      ]
    },
    {
      "cell_type": "code",
      "metadata": {
        "colab": {
          "base_uri": "https://localhost:8080/"
        },
        "id": "F42z-f24qcZW",
        "outputId": "cab2aae3-0ede-449d-9748-2ad9b59f479a"
      },
      "source": [
        "test[4]"
      ],
      "execution_count": null,
      "outputs": [
        {
          "output_type": "execute_result",
          "data": {
            "text/plain": [
              "['0.500001', '0.500002', '0.500003', '1.000000', '0.000001']"
            ]
          },
          "metadata": {
            "tags": []
          },
          "execution_count": 105
        }
      ]
    },
    {
      "cell_type": "code",
      "metadata": {
        "colab": {
          "base_uri": "https://localhost:8080/"
        },
        "id": "EdCE5jSGwNf9",
        "outputId": "30247d28-19c9-4641-fde1-4f78317a46e9"
      },
      "source": [
        "[min(filter(lambda val: val >= 0, k)) for k in all_res]"
      ],
      "execution_count": null,
      "outputs": [
        {
          "output_type": "execute_result",
          "data": {
            "text/plain": [
              "[]"
            ]
          },
          "metadata": {
            "tags": []
          },
          "execution_count": 31
        }
      ]
    },
    {
      "cell_type": "code",
      "metadata": {
        "id": "Nze_UWRPvap4"
      },
      "source": [
        ""
      ],
      "execution_count": null,
      "outputs": []
    }
  ]
}