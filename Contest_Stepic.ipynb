{
  "nbformat": 4,
  "nbformat_minor": 0,
  "metadata": {
    "colab": {
      "name": "Contest_Stepic.ipynb",
      "provenance": [],
      "collapsed_sections": [],
      "mount_file_id": "1LrnsC43OdtW6-hjXh22rF_z3kncBPmBB",
      "authorship_tag": "ABX9TyOHhtCFrvlDCcOazDP/t6Oa",
      "include_colab_link": true
    },
    "kernelspec": {
      "name": "python3",
      "display_name": "Python 3"
    },
    "language_info": {
      "name": "python"
    }
  },
  "cells": [
    {
      "cell_type": "markdown",
      "metadata": {
        "id": "view-in-github",
        "colab_type": "text"
      },
      "source": [
        "<a href=\"https://colab.research.google.com/github/Carambolushka/Bioinformatic-contest/blob/main/Contest_Stepic.ipynb\" target=\"_parent\"><img src=\"https://colab.research.google.com/assets/colab-badge.svg\" alt=\"Open In Colab\"/></a>"
      ]
    },
    {
      "cell_type": "code",
      "metadata": {
        "id": "WTdXe63L6tHG"
      },
      "source": [
        "files = open('/content/contest_test.txt', 'r')"
      ],
      "execution_count": null,
      "outputs": []
    },
    {
      "cell_type": "code",
      "metadata": {
        "id": "EDA-Dcpo9ee9"
      },
      "source": [
        "txt = []\n",
        "for line in files.readlines():\n",
        "    txt += [line.split()]"
      ],
      "execution_count": null,
      "outputs": []
    },
    {
      "cell_type": "code",
      "metadata": {
        "id": "OykR-ryNZmVD"
      },
      "source": [
        "files.close()"
      ],
      "execution_count": null,
      "outputs": []
    },
    {
      "cell_type": "code",
      "metadata": {
        "id": "UCPp0NLWZ_ev"
      },
      "source": [
        "file_result = open('res.txt','w')"
      ],
      "execution_count": null,
      "outputs": []
    },
    {
      "cell_type": "code",
      "metadata": {
        "colab": {
          "base_uri": "https://localhost:8080/"
        },
        "id": "2mZ8uCALCJVE",
        "outputId": "8716bc1d-2736-402d-bd0e-dad8fbd93e7c"
      },
      "source": [
        "txt"
      ],
      "execution_count": null,
      "outputs": [
        {
          "output_type": "execute_result",
          "data": {
            "text/plain": [
              "[['2'],\n",
              " ['4', '10'],\n",
              " ['0010001000'],\n",
              " ['1001000001'],\n",
              " ['0101010001'],\n",
              " ['0010001100'],\n",
              " ['2', '14'],\n",
              " ['00011100010100'],\n",
              " ['00111000010001']]"
            ]
          },
          "metadata": {
            "tags": []
          },
          "execution_count": 303
        }
      ]
    },
    {
      "cell_type": "code",
      "metadata": {
        "id": "7fIXg0e7GREC"
      },
      "source": [
        "number_of_tests = int((txt[0])[0])"
      ],
      "execution_count": null,
      "outputs": []
    },
    {
      "cell_type": "code",
      "metadata": {
        "colab": {
          "base_uri": "https://localhost:8080/"
        },
        "id": "TyshyVIbGqqg",
        "outputId": "71eb7ea8-0756-4628-c480-66be7aaeb889"
      },
      "source": [
        "number_of_tests"
      ],
      "execution_count": null,
      "outputs": [
        {
          "output_type": "execute_result",
          "data": {
            "text/plain": [
              "2"
            ]
          },
          "metadata": {
            "tags": []
          },
          "execution_count": 305
        }
      ]
    },
    {
      "cell_type": "code",
      "metadata": {
        "id": "zEx0mEWUHYLH"
      },
      "source": [
        "txt.remove(txt[0])"
      ],
      "execution_count": null,
      "outputs": []
    },
    {
      "cell_type": "code",
      "metadata": {
        "colab": {
          "base_uri": "https://localhost:8080/"
        },
        "id": "974JTKLrHczN",
        "outputId": "2e0b99d1-11b5-4f60-cdfe-4aa8bcba364e"
      },
      "source": [
        "txt"
      ],
      "execution_count": null,
      "outputs": [
        {
          "output_type": "execute_result",
          "data": {
            "text/plain": [
              "[['4', '10'],\n",
              " ['0010001000'],\n",
              " ['1001000001'],\n",
              " ['0101010001'],\n",
              " ['0010001100'],\n",
              " ['2', '14'],\n",
              " ['00011100010100'],\n",
              " ['00111000010001']]"
            ]
          },
          "metadata": {
            "tags": []
          },
          "execution_count": 307
        }
      ]
    },
    {
      "cell_type": "code",
      "metadata": {
        "id": "ylpWWn8FH8gY"
      },
      "source": [
        "def make_some_paterns(matr=matr, number_of_rows=number_of_rows, lenght_of_rows=lenght_of_rows):\n",
        "    # делаем патерны, присваиваем номер и возвращаем последовательность номеров\n",
        "    patern_list = []\n",
        "    for j in range(lenght_of_rows):\n",
        "        paterns = str()\n",
        "        for i in range(number_of_rows):\n",
        "            paterns += str(matr[i][j])\n",
        "\n",
        "        patern_list += [paterns]\n",
        "\n",
        "    # получили список всех patern_list\n",
        "    number_of_unique_patern = len(set(patern_list))\n",
        "    # получили число уникальных патернов number_of_unique_patern\n",
        "    #print(number_of_unique_patern)\n",
        "\n",
        "    #делаем словарь по патернам\n",
        "    voc_patern = {}\n",
        "    for voc in range(number_of_unique_patern):\n",
        "        k = list(set(patern_list))[voc]\n",
        "        voc_patern[k]=voc+1\n",
        "\n",
        "    # получили словарь voc_patern\n",
        "\n",
        "    #переводим список в значения\n",
        "\n",
        "    #print(voc_patern)\n",
        "\n",
        "    #print(patern_list)\n",
        "    result_list=[]\n",
        "    for i in patern_list:\n",
        "        result_list += [voc_patern.get(i)]\n",
        "    # результат возвращения в индексах!\n",
        "    #print(result_list)\n",
        "    return number_of_unique_patern, result_list\n",
        "\n",
        "\n"
      ],
      "execution_count": null,
      "outputs": []
    },
    {
      "cell_type": "code",
      "metadata": {
        "colab": {
          "base_uri": "https://localhost:8080/"
        },
        "id": "DkfpNfnaG31c",
        "outputId": "35f485f3-491d-432d-a1aa-cf52e787d0f6"
      },
      "source": [
        "counter = 0\n",
        "for i in range(number_of_tests):\n",
        "    matr = []\n",
        "    \n",
        "    number_of_rows, lenght_of_rows = int((txt[counter])[0]), int((txt[counter])[1])\n",
        "    print(number_of_rows, lenght_of_rows)\n",
        "    counter += 1\n",
        "    for j in range(number_of_rows):\n",
        "        matr += (txt[counter])\n",
        "        counter += 1\n",
        "    print(matr)\n",
        "    unique_number_patern, index_patern_list = make_some_paterns(matr, number_of_rows, lenght_of_rows)\n",
        "    print(unique_number_patern, file=file_result)\n",
        "    print(*index_patern_list, file=file_result)\n",
        "\n",
        "file_result.close()\n",
        "    \n",
        "    \n",
        "\n"
      ],
      "execution_count": null,
      "outputs": [
        {
          "output_type": "stream",
          "text": [
            "4 10\n",
            "['0010001000', '1001000001', '0101010001', '0010001100']\n",
            "2 14\n",
            "['00011100010100', '00111000010001']\n"
          ],
          "name": "stdout"
        }
      ]
    },
    {
      "cell_type": "code",
      "metadata": {
        "id": "-42Ff6W6aoD3"
      },
      "source": [
        ""
      ],
      "execution_count": null,
      "outputs": []
    }
  ]
}